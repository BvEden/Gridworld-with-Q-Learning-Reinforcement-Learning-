{
 "cells": [
  {
   "cell_type": "markdown",
   "metadata": {},
   "source": [
    "# Reinforcement Learning CM50270 Lab - Session 0\n",
    "\n",
    "Lecturer: Özgür Şimşek o.simsek@bath.ac.uk\n",
    "\n",
    "Tutor: Jan Malte Lichtenberg j.m.lichtenberg@bath.ac.uk"
   ]
  },
  {
   "cell_type": "markdown",
   "metadata": {},
   "source": [
    "# Learning Goals\n",
    "\n",
    "* Learn how to navigate in a Jupyter Notebook\n",
    "* Learn how to import libraries and other code files\n",
    "* Basic usage of the 'numpy' library for scientific computing\n",
    "* Basic usage of the 'matplotlib' library for visualization of results\n",
    "* Learn how to define a class with methods and fields\n",
    "* Preparation for RL CM50270 Lab - Session 1"
   ]
  },
  {
   "cell_type": "markdown",
   "metadata": {},
   "source": [
    "# Introduction\n",
    "\n",
    "This preliminary session will cover some basics of Python. We will cover the basics of the numpy library, which simplifies the manipulation of arrays, and should thus be helpful to code parts of the environment and the reinforcement learning agent.\n",
    "\n",
    "We will then look at simple examples of visualizing results using the matplotlib.pyplot library. These should enable you to plot learning curves that show the performance of your agent.\n",
    "\n",
    "Finally, we will show the very basics of object oriented programming (OOP) in Python. We strongly advise you to use OOP for your environments and agents. Note that this is _not_ an introduction to the principles of object-oriented programming. If you need a refresher, please look at, for example, [here](https://python.swaroopch.com/oop.html).\n",
    "\n",
    "## Cells\n",
    "\n",
    "After launching this notebook, try running/executing the next cell by pressing shift-enter on it. "
   ]
  },
  {
   "cell_type": "code",
   "execution_count": null,
   "metadata": {},
   "outputs": [],
   "source": [
    "4*5"
   ]
  },
  {
   "cell_type": "markdown",
   "metadata": {},
   "source": [
    "You can go into 'edit mode' by clicking on a cell. In order to exit the 'edit mode' and go into 'command mode', press escape or click somewhere outside of any cell. Once in 'command mode', you can, for example, create new cells by pressing 'a' for above or 'b' for below. Try it out! \n",
    "\n",
    "The cell you just executed above is called a 'code cell'. The kind of cell in which this text is written is called a 'markdown' cell. You can switch between both modes using the dropdown menu in the tool bar or by pressing 'm' or 'y', respectively."
   ]
  },
  {
   "cell_type": "markdown",
   "metadata": {},
   "source": [
    "## The Kernel\n",
    "\n",
    "The Python session in which your cells are executed is called the 'kernel'. You can stop or restart the kernel (that is, start a new Python session) in the toolbar on the top of the page."
   ]
  },
  {
   "cell_type": "markdown",
   "metadata": {},
   "source": [
    "## Import libraries and other code\n",
    "\n",
    "You can import libraries as follows. We will import the library `os`, which is useful for loading data and images. Execute the following cell!"
   ]
  },
  {
   "cell_type": "code",
   "execution_count": null,
   "metadata": {
    "collapsed": true
   },
   "outputs": [],
   "source": [
    "import os"
   ]
  },
  {
   "cell_type": "markdown",
   "metadata": {},
   "source": [
    "After exectuing this cell, your kernel will have access to everything inside the `os` library which is a common library for interacting with the operating system.  We'll need to use the import statement for all of the libraries that we include. \n",
    "\n",
    "Sometimes you may want to write parts of your code (e.g., utility functions or class definitions) in a seperate file. You can again use the `import` statement. We now import everything contained in the file utils_session_0.py."
   ]
  },
  {
   "cell_type": "code",
   "execution_count": null,
   "metadata": {
    "collapsed": true
   },
   "outputs": [],
   "source": [
    "import utils_session_0"
   ]
  },
  {
   "cell_type": "markdown",
   "metadata": {},
   "source": [
    "We can then access the function defined in this file as follows."
   ]
  },
  {
   "cell_type": "code",
   "execution_count": null,
   "metadata": {},
   "outputs": [],
   "source": [
    "utils_session_0.utils_test()"
   ]
  },
  {
   "cell_type": "markdown",
   "metadata": {},
   "source": [
    "# Numpy\n",
    "\n",
    "The numpy library is a popular scientific computing library for Python. In a reinforcement learning context, we can use it to store numerical data such as, for example, a Q-table of a Q-learning agent or the rewards for different states in an environment. We can use the statement `import long_name_of_a_library as short_name` to make our lives easier. It is common practice to import `numpy` as `np`."
   ]
  },
  {
   "cell_type": "code",
   "execution_count": null,
   "metadata": {
    "collapsed": true
   },
   "outputs": [],
   "source": [
    "import numpy as np"
   ]
  },
  {
   "cell_type": "markdown",
   "metadata": {},
   "source": [
    "You can now create arrays as follows."
   ]
  },
  {
   "cell_type": "code",
   "execution_count": null,
   "metadata": {},
   "outputs": [],
   "source": [
    "# One-dimensional array\n",
    "a = np.array([3, 4, 5, 6])\n",
    "print(\"a =\", a)\n",
    "\n",
    "a_2 = np.arange(3, 7) \n",
    "print(\"a_2 =\", a_2)\n",
    "\n",
    "# Two-dimensional array\n",
    "b = np.array([[1, 2],\n",
    "              [3, 4]])\n",
    "print(\"b =\"); print(b)\n",
    "\n",
    "# Variable-length array of zeros\n",
    "num_rows = 3\n",
    "num_cols = 5\n",
    "c = np.zeros(shape=(num_rows, num_cols))\n",
    "print(\"c =\"); print(c)\n",
    "\n",
    "# Variable length array of random integers between 0 (inclusive) and 6 (exclusive) \n",
    "d = np.random.randint(low = 0, high=6, size=(num_rows, num_cols))\n",
    "print(\"d =\"); print(d)"
   ]
  },
  {
   "cell_type": "markdown",
   "metadata": {},
   "source": [
    "Note that the array `c` consists of floats instead of integers (as can be seen by the trailing '.' behind each 0). You can specify the type as follows."
   ]
  },
  {
   "cell_type": "code",
   "execution_count": null,
   "metadata": {},
   "outputs": [],
   "source": [
    "# Variable-length array of integers\n",
    "c_int = np.zeros(shape = (num_rows, num_cols), dtype = int)\n",
    "print(\"c_int =\")\n",
    "print(c_int)"
   ]
  },
  {
   "cell_type": "markdown",
   "metadata": {},
   "source": [
    "**Indexing arrays.** Numpy has numerous ways to access elements of your array. Notice that indices start at 0! Let's look at a few of these, more info on indexing can be found [here](http://scipy-cookbook.readthedocs.io/items/Indexing.html)."
   ]
  },
  {
   "cell_type": "code",
   "execution_count": null,
   "metadata": {},
   "outputs": [],
   "source": [
    "# Indexing one-dimensional arrays.\n",
    "second_element_of_a = a[1]\n",
    "print(\"Second element of a:  a[1]=\", second_element_of_a)\n",
    "\n",
    "# Two-dimensional arrays\n",
    "print(\"Element in the first row, second column of b:   b[0, 1]=\", b[0, 1])"
   ]
  },
  {
   "cell_type": "markdown",
   "metadata": {},
   "source": [
    "**Slicing arrays.** A convinent method to access sub-arrays is to use the ':' operator. Intuitively, ':' says \"choose all elements along this dimension\" or, if used with a preceding or succeeding integer index, \"choose all suceeding or preceding elements\", respectively. For example, we can easily access rows or columns of a multi-dimensional array or \"elements 5 to 10\" of a one-dimensional array."
   ]
  },
  {
   "cell_type": "code",
   "execution_count": null,
   "metadata": {},
   "outputs": [],
   "source": [
    "## Slicing one-dimensional arrays.\n",
    "print(\"a =\", a)\n",
    "print(\"a[1:] =\", a[1:])\n",
    "print(\"a[2:] =\", a[2:])\n",
    "print(\"a[:2] =\", a[:2])\n",
    "print(\"a[1:3] =\", a[1:3])\n",
    "\n",
    "## Slicing two-dimensionl arrays.\n",
    "# First row of b.\n",
    "print(\"b =\"); print(b)\n",
    "print(\"b[0, :] =\", b[0, :])\n",
    "# Second column of b.\n",
    "print(\"b[:, 1] =\", b[:, 1])"
   ]
  },
  {
   "cell_type": "markdown",
   "metadata": {},
   "source": [
    "Numpy provides a large variety of functions for array manipulation, statistics, and linear algebra. Have a look at the library by checking the documentation with `help(np)`. Another option to get information is to write `np.` and then press `<tab>`. This shows a dropdown of all available functions in this library:"
   ]
  },
  {
   "cell_type": "code",
   "execution_count": null,
   "metadata": {
    "collapsed": true
   },
   "outputs": [],
   "source": [
    "# uncomment the lines to try them\n",
    "# help(np)\n",
    "# np.<tab>"
   ]
  },
  {
   "cell_type": "markdown",
   "metadata": {},
   "source": [
    "Selecting a function from the dropdown and adding a `?` at the end will bring up the function's documentation.\n",
    "Let's look at the mean function of `np`."
   ]
  },
  {
   "cell_type": "code",
   "execution_count": null,
   "metadata": {
    "collapsed": true
   },
   "outputs": [],
   "source": [
    "np.mean?"
   ]
  },
  {
   "cell_type": "markdown",
   "metadata": {},
   "source": [
    "We can now calculate means of arrays. If we do not specify any further arguments, np.mean calculates the mean of all elements. Note also the two different ways of executing the same function."
   ]
  },
  {
   "cell_type": "code",
   "execution_count": null,
   "metadata": {},
   "outputs": [],
   "source": [
    "print(np.mean(a))\n",
    "print(a.mean())\n",
    "print(np.mean(b))\n",
    "print(b.mean())"
   ]
  },
  {
   "cell_type": "markdown",
   "metadata": {},
   "source": [
    "Sometimes we want to have column-wise or row-wise means or maxima. We can do so by specifying the axis-argument of the mean() function."
   ]
  },
  {
   "cell_type": "code",
   "execution_count": null,
   "metadata": {},
   "outputs": [],
   "source": [
    "# Column-wise means\n",
    "print(np.mean(b, axis = 0))\n",
    "\n",
    "# Row-wise maxima\n",
    "print(np.max(b, axis = 1))"
   ]
  },
  {
   "cell_type": "markdown",
   "metadata": {},
   "source": [
    "**Updating array values.**"
   ]
  },
  {
   "cell_type": "code",
   "execution_count": null,
   "metadata": {},
   "outputs": [],
   "source": [
    "print(b)\n",
    "# Assign a specific value\n",
    "b[0, 1] = 9\n",
    "print(b)\n",
    "# Increase / decrease values.\n",
    "b[1, 0] += 2\n",
    "b[0, 0] -= 1\n",
    "print(b)"
   ]
  },
  {
   "cell_type": "markdown",
   "metadata": {},
   "source": [
    "# Matplotlib\n",
    "\n",
    "`matplotlib` is an incredibly powerful Python visualization library. In a reinforcement learning context, we can use it to plot learning curves or to visualize policy functions. We actually use the `matplotlib.pyplot` module which is specifically used in jupyter notebooks."
   ]
  },
  {
   "cell_type": "code",
   "execution_count": null,
   "metadata": {
    "collapsed": true
   },
   "outputs": [],
   "source": [
    "import matplotlib.pyplot as plt"
   ]
  },
  {
   "cell_type": "markdown",
   "metadata": {},
   "source": [
    "We'll now tell matplotlib to \"inline\" plots using an ipython magic function:"
   ]
  },
  {
   "cell_type": "code",
   "execution_count": null,
   "metadata": {
    "collapsed": true
   },
   "outputs": [],
   "source": [
    "%matplotlib inline"
   ]
  },
  {
   "cell_type": "markdown",
   "metadata": {},
   "source": [
    "This isn't python, so won't work inside of any python script files.  This only works inside notebooks.  What this is saying is that whenever we plot something using matplotlib, put the plots directly into the notebook, instead of using a window popup, which is the default behavior."
   ]
  },
  {
   "cell_type": "markdown",
   "metadata": {},
   "source": [
    "Let us now start visualizing some random data. You may use this code as a template to plot a learning curve for an agent. \n",
    "\n",
    "Specifically, we will create a sample of 50 random numbers drawn from a Gaussian random variable $X \\sim \\mathcal{N}(\\mu, \\sigma)$ with mean $\\mu = 0$ and standard deviation $\\sigma = 0.1$."
   ]
  },
  {
   "cell_type": "code",
   "execution_count": null,
   "metadata": {
    "collapsed": true
   },
   "outputs": [],
   "source": [
    "mu, sigma = 0, 0.1\n",
    "sample = np.random.normal(mu, sigma, size=50)"
   ]
  },
  {
   "cell_type": "markdown",
   "metadata": {},
   "source": [
    "We can create a simple line plot using the plt.plot() command. Note thaty pyplot automatically assumes that the given data is a function of $x = [1, \\dots, 50]$ because we did not provide any further data."
   ]
  },
  {
   "cell_type": "code",
   "execution_count": null,
   "metadata": {},
   "outputs": [],
   "source": [
    "plt.plot(sample);"
   ]
  },
  {
   "cell_type": "markdown",
   "metadata": {},
   "source": [
    "**Customizing your plot.** `matplotlib` lets you change almost every detail of your plot. The `plt.plot()` that we used in the last cell actually does many things at once: \n",
    "* It creates a **figure**-object, which keeps tracks of all 'axes'-objects (see below) and handles general attributes of the plot such as, for example, the figure size. \n",
    "* It creates one **axes**-object, which is what you think of as 'a plot', that is, the region where the data is visualized.\n",
    "* It creates some essential **artist**-objects such as, for example, both the x-axis and the y-axis and their corresponding ticks.\n",
    "* It uses the data to create the line, another 'artist'.\n",
    "* Finally, it actually 'shows' the plot by drawing all the artists on the canvas.\n",
    "\n",
    "We can take control of any of the steps shown above in order to modify aspects of the plot. "
   ]
  },
  {
   "cell_type": "code",
   "execution_count": null,
   "metadata": {},
   "outputs": [],
   "source": [
    "# We create more data that we want to compare with the first sample. \n",
    "# Note that this operation adds 2 to every element of the np.array 'sample'\n",
    "sample2 = np.random.normal(mu, sigma, size=50) + np.linspace(0, 2, num=50)\n",
    "\n",
    "# We also specify the x-coordinates\n",
    "x = np.arange(0, 50)\n",
    "\n",
    "# Create one figure with two subplots that are positioned within one column.\n",
    "fig, (ax1, ax2) = plt.subplots(nrows=2, ncols=1)\n",
    "\n",
    "# Modify the first subplot.\n",
    "ax1.plot(x, sample, color = \"red\")\n",
    "ax1.set_title(\"Two random line plots\")\n",
    "ax1.set_xlabel('Time')\n",
    "ax1.set_ylabel('y')\n",
    "\n",
    "# Modify the second subplot.\n",
    "ax2.plot(x, sample, color=\"red\", label=\"XYZ\")\n",
    "ax2.plot(x, sample2, color=\"blue\", label=\"GRLC\")\n",
    "ax2.set_xlabel('Time')\n",
    "ax2.set_ylabel('y')\n",
    "\n",
    "plt.legend()\n",
    "# Show the whole figure including both subplots\n",
    "plt.show()"
   ]
  },
  {
   "cell_type": "markdown",
   "metadata": {
    "collapsed": true
   },
   "source": [
    "# Object-oriented programming in Python\n",
    "\n",
    "We now define an Agent **class**, which, initially, has no functionality at all. We will then gradually improve its functionality by adding fields and methods."
   ]
  },
  {
   "cell_type": "code",
   "execution_count": null,
   "metadata": {},
   "outputs": [],
   "source": [
    "class Agent:\n",
    "    pass\n",
    "\n",
    "agent_x = Agent()\n",
    "print(agent_x)\n",
    "agent_y = Agent()\n",
    "print(agent_y)"
   ]
  },
  {
   "cell_type": "markdown",
   "metadata": {},
   "source": [
    "We first defined an empty class. The `pass` argument is a null operation, which is useful as a placeholder when a statement is required syntactically, but no code needs to be executed.\n",
    "\n",
    "We then created two (pretty useless) **instances** of our Agent class. We now redifine our class and add a **method** to the Agent class. A method is a function available to all instances of our class. Methods are defined within the class and differ from functions in that the first argument is always `self`."
   ]
  },
  {
   "cell_type": "code",
   "execution_count": null,
   "metadata": {},
   "outputs": [],
   "source": [
    "class Agent:\n",
    "    def who_am_i(self):\n",
    "        print(\"I am an agent!\")\n",
    "        \n",
    "agent_x = Agent()\n",
    "agent_x.who_am_i()\n",
    "agent_y = Agent()\n",
    "agent_y.who_am_i()"
   ]
  },
  {
   "cell_type": "markdown",
   "metadata": {},
   "source": [
    "We now define an **instance variable** or **field** called `name` to give the agents different identities. Instance variables are owned by each individual object/instance. They are not shared with other instances of the same class. Usually, all instance variables are defined within the `__init__()` method and then later updated, if needed.\n",
    "\n",
    "The `__init__()` method is a special function that is run as soon as the obect is instantiated, that is, when `Agent()` is called. We use the `__init__()` method to pass initial values instance variables upon creation of the instance.\n"
   ]
  },
  {
   "cell_type": "code",
   "execution_count": null,
   "metadata": {},
   "outputs": [],
   "source": [
    "class Agent:\n",
    "    def __init__(self, name):\n",
    "        self.name = name\n",
    "        \n",
    "    def who_am_i(self):\n",
    "        print(\"I am agent\", self.name, \"!\")\n",
    "        \n",
    "agent_x = Agent(\"X\")\n",
    "agent_x.who_am_i()\n",
    "agent_q = Agent(\"Q\")\n",
    "agent_q.who_am_i()"
   ]
  },
  {
   "cell_type": "markdown",
   "metadata": {},
   "source": [
    "You can access instance variables the same way you access methods (if you did not declare them as private variables)."
   ]
  },
  {
   "cell_type": "code",
   "execution_count": null,
   "metadata": {},
   "outputs": [],
   "source": [
    "print(agent_x.name)\n",
    "print(agent_q.name)"
   ]
  },
  {
   "cell_type": "markdown",
   "metadata": {},
   "source": [
    "If you want to know more about OOP in Python (for example, how to use inheritance), give this [tutorial](https://python.swaroopch.com/oop.html) a try.\n",
    "\n",
    "You should now be able to get started in Session 1. Think about which fields and methods a RL agent would need and give it a try! "
   ]
  },
  {
   "cell_type": "markdown",
   "metadata": {},
   "source": [
    "Sources of this tutorial include:\n",
    "* https://python.swaroopch.com/oop.html\n",
    "* https://matplotlib.org/faq/usage_faq.html#usage\n",
    "* https://docs.scipy.org/doc/numpy-dev/user/quickstart.html\n",
    "* and the excellent https://github.com/pkmital/CADL\n"
   ]
  }
 ],
 "metadata": {
  "kernelspec": {
   "display_name": "Python 3",
   "language": "python",
   "name": "python3"
  },
  "language_info": {
   "codemirror_mode": {
    "name": "ipython",
    "version": 3
   },
   "file_extension": ".py",
   "mimetype": "text/x-python",
   "name": "python",
   "nbconvert_exporter": "python",
   "pygments_lexer": "ipython3",
   "version": "3.6.3"
  }
 },
 "nbformat": 4,
 "nbformat_minor": 2
}
